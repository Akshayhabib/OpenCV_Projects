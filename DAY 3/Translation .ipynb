{
 "cells": [
  {
   "cell_type": "markdown",
   "id": "6e99aaa3",
   "metadata": {},
   "source": [
    "Image translation is used to rotate, flip, shift, etc images"
   ]
  },
  {
   "cell_type": "code",
   "execution_count": 1,
   "id": "cc1b294c",
   "metadata": {},
   "outputs": [],
   "source": [
    "import cv2\n",
    "import numpy as np"
   ]
  },
  {
   "cell_type": "code",
   "execution_count": 2,
   "id": "be52d87b",
   "metadata": {
    "collapsed": true
   },
   "outputs": [
    {
     "data": {
      "text/plain": [
       "array([[[12, 18, 31],\n",
       "        [12, 18, 31],\n",
       "        [11, 17, 30],\n",
       "        ...,\n",
       "        [21, 24, 38],\n",
       "        [21, 24, 38],\n",
       "        [21, 24, 38]],\n",
       "\n",
       "       [[12, 18, 31],\n",
       "        [12, 18, 31],\n",
       "        [12, 18, 31],\n",
       "        ...,\n",
       "        [21, 24, 38],\n",
       "        [21, 24, 38],\n",
       "        [21, 24, 38]],\n",
       "\n",
       "       [[12, 18, 31],\n",
       "        [12, 18, 31],\n",
       "        [12, 18, 31],\n",
       "        ...,\n",
       "        [21, 24, 38],\n",
       "        [21, 24, 38],\n",
       "        [21, 24, 38]],\n",
       "\n",
       "       ...,\n",
       "\n",
       "       [[ 4,  7, 12],\n",
       "        [ 4,  7, 12],\n",
       "        [ 3,  7, 12],\n",
       "        ...,\n",
       "        [18, 23, 38],\n",
       "        [19, 24, 39],\n",
       "        [20, 25, 40]],\n",
       "\n",
       "       [[ 3,  6, 11],\n",
       "        [ 3,  6, 11],\n",
       "        [ 3,  6, 11],\n",
       "        ...,\n",
       "        [18, 23, 38],\n",
       "        [19, 24, 39],\n",
       "        [20, 25, 40]],\n",
       "\n",
       "       [[ 3,  6, 11],\n",
       "        [ 3,  6, 11],\n",
       "        [ 2,  5, 10],\n",
       "        ...,\n",
       "        [18, 23, 38],\n",
       "        [18, 23, 38],\n",
       "        [19, 24, 39]]], dtype=uint8)"
      ]
     },
     "execution_count": 2,
     "metadata": {},
     "output_type": "execute_result"
    }
   ],
   "source": [
    "image = cv2.imread(r\"F:\\Deep Learning\\Dev sir DL\\OpenCV\\Data\\Data/input.jpg\")\n",
    "image"
   ]
  },
  {
   "cell_type": "code",
   "execution_count": 3,
   "id": "15d949ac",
   "metadata": {},
   "outputs": [],
   "source": [
    "def show(img):\n",
    "    cv2.imshow('output', img)\n",
    "    cv2.waitKey()\n",
    "    cv2.destroyAllWindows()"
   ]
  },
  {
   "cell_type": "code",
   "execution_count": 9,
   "id": "bf4d83d1",
   "metadata": {},
   "outputs": [],
   "source": [
    "def translate(image, x, y):\n",
    "    M = np.float32([[1, 0, x], [0, 1, y]])\n",
    "    shifted = cv2.warpAffine(image, M, (image.shape[1], image.shape[0]))\n",
    "    return shifted"
   ]
  },
  {
   "cell_type": "code",
   "execution_count": 10,
   "id": "4c17c842",
   "metadata": {},
   "outputs": [],
   "source": [
    "#shift image down\n",
    "shifted = translate(image, 0, 100)\n",
    "show(shifted)"
   ]
  },
  {
   "cell_type": "code",
   "execution_count": 11,
   "id": "4ed4e9a8",
   "metadata": {},
   "outputs": [],
   "source": [
    "#shift image up\n",
    "shifted = translate(image, 0, -100)\n",
    "cv2.imshow(\"Shifted up image\", shifted)\n",
    "cv2.waitKey(0)\n",
    "cv2.destroyAllWindows()"
   ]
  },
  {
   "cell_type": "code",
   "execution_count": 12,
   "id": "0a663b46",
   "metadata": {},
   "outputs": [],
   "source": [
    "#shift image left\n",
    "shifted = translate(image, -100, 0)\n",
    "cv2.imshow(\"Shifted left image\", shifted)\n",
    "cv2.waitKey(0)\n",
    "cv2.destroyAllWindows()"
   ]
  },
  {
   "cell_type": "code",
   "execution_count": null,
   "id": "b1c2fc57",
   "metadata": {},
   "outputs": [],
   "source": []
  }
 ],
 "metadata": {
  "kernelspec": {
   "display_name": "tf_cpu",
   "language": "python",
   "name": "tf_cpu"
  },
  "language_info": {
   "codemirror_mode": {
    "name": "ipython",
    "version": 3
   },
   "file_extension": ".py",
   "mimetype": "text/x-python",
   "name": "python",
   "nbconvert_exporter": "python",
   "pygments_lexer": "ipython3",
   "version": "3.9.7"
  }
 },
 "nbformat": 4,
 "nbformat_minor": 5
}
