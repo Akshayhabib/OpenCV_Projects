{
 "cells": [
  {
   "cell_type": "markdown",
   "id": "09fc1090",
   "metadata": {},
   "source": [
    "Image translation is used to rotate, flip, shift, etc images"
   ]
  },
  {
   "cell_type": "code",
   "execution_count": 3,
   "id": "3310f94b",
   "metadata": {},
   "outputs": [],
   "source": [
    "import cv2\n",
    "import numpy as np"
   ]
  },
  {
   "cell_type": "code",
   "execution_count": 4,
   "id": "db3cf8c6",
   "metadata": {},
   "outputs": [
    {
     "data": {
      "text/plain": [
       "array([[[16, 15, 11],\n",
       "        [23, 22, 18],\n",
       "        [31, 30, 26],\n",
       "        ...,\n",
       "        [ 7,  8,  6],\n",
       "        [ 7,  8,  6],\n",
       "        [ 7,  8,  6]],\n",
       "\n",
       "       [[15, 14, 10],\n",
       "        [22, 21, 17],\n",
       "        [30, 29, 25],\n",
       "        ...,\n",
       "        [ 6,  7,  5],\n",
       "        [ 6,  7,  5],\n",
       "        [ 6,  7,  5]],\n",
       "\n",
       "       [[14, 13,  9],\n",
       "        [21, 20, 16],\n",
       "        [30, 29, 25],\n",
       "        ...,\n",
       "        [ 6,  7,  5],\n",
       "        [ 6,  7,  5],\n",
       "        [ 6,  7,  5]],\n",
       "\n",
       "       ...,\n",
       "\n",
       "       [[ 8,  8,  8],\n",
       "        [ 7,  7,  7],\n",
       "        [ 5,  5,  5],\n",
       "        ...,\n",
       "        [ 0,  0,  0],\n",
       "        [ 0,  0,  0],\n",
       "        [ 0,  0,  0]],\n",
       "\n",
       "       [[ 9,  9,  9],\n",
       "        [ 8,  8,  8],\n",
       "        [ 6,  6,  6],\n",
       "        ...,\n",
       "        [ 0,  0,  0],\n",
       "        [ 0,  0,  0],\n",
       "        [ 0,  0,  0]],\n",
       "\n",
       "       [[10, 10, 10],\n",
       "        [ 9,  9,  9],\n",
       "        [ 7,  7,  7],\n",
       "        ...,\n",
       "        [ 0,  0,  0],\n",
       "        [ 0,  0,  0],\n",
       "        [ 0,  0,  0]]], dtype=uint8)"
      ]
     },
     "execution_count": 4,
     "metadata": {},
     "output_type": "execute_result"
    }
   ],
   "source": [
    "image = cv2.imread(r\"C:\\Users\\akshay0909\\open CV\\DAY2\\DATA-20220515T070511Z-001\\DATA\\cat.jpeg\")\n",
    "image"
   ]
  },
  {
   "cell_type": "code",
   "execution_count": 5,
   "id": "05193dab",
   "metadata": {},
   "outputs": [],
   "source": [
    "def show(img):\n",
    "    cv2.imshow('output', img)\n",
    "    cv2.waitKey()\n",
    "    cv2.destroyAllWindows()"
   ]
  },
  {
   "cell_type": "code",
   "execution_count": 6,
   "id": "bc7623bc",
   "metadata": {},
   "outputs": [],
   "source": [
    "def translate(image, x, y):\n",
    "    M = np.float32([[1, 0, x], [0, 1, y]])\n",
    "    shifted = cv2.warpAffine(image, M, (image.shape[1], image.shape[0]))\n",
    "    return shifted"
   ]
  },
  {
   "cell_type": "code",
   "execution_count": 7,
   "id": "3f063581",
   "metadata": {},
   "outputs": [],
   "source": [
    "#shift image down\n",
    "shifted = translate(image, 0, 100)\n",
    "show(shifted)"
   ]
  },
  {
   "cell_type": "code",
   "execution_count": 8,
   "id": "d887beee",
   "metadata": {},
   "outputs": [],
   "source": [
    "#shift image up\n",
    "shifted = translate(image, 0, -100)\n",
    "cv2.imshow(\"Shifted up image\", shifted)\n",
    "cv2.waitKey(0)\n",
    "cv2.destroyAllWindows()"
   ]
  },
  {
   "cell_type": "code",
   "execution_count": 9,
   "id": "edc7e74a",
   "metadata": {},
   "outputs": [],
   "source": [
    "#shift image left\n",
    "shifted = translate(image, -100, 0)\n",
    "cv2.imshow(\"Shifted left image\", shifted)\n",
    "cv2.waitKey(0)\n",
    "cv2.destroyAllWindows()"
   ]
  },
  {
   "cell_type": "code",
   "execution_count": 10,
   "id": "9f3e6b0e",
   "metadata": {},
   "outputs": [],
   "source": [
    "#shift image right and down\n",
    "shifted = translate(image, 100, 50)\n",
    "cv2.imshow(\"Shifted right and down image\", shifted)\n",
    "cv2.waitKey(0)\n",
    "cv2.destroyAllWindows()"
   ]
  },
  {
   "cell_type": "markdown",
   "id": "caa8cd86",
   "metadata": {},
   "source": [
    "# Rotation"
   ]
  },
  {
   "cell_type": "code",
   "execution_count": 11,
   "id": "8baa9472",
   "metadata": {},
   "outputs": [],
   "source": [
    "#rotate image\n",
    "rotated_image = cv2.transpose(image)\n",
    "\n",
    "cv2.imshow(\"Rotted image\", rotated_image)\n",
    "cv2.waitKey(0)\n",
    "cv2.destroyAllWindows()"
   ]
  },
  {
   "cell_type": "code",
   "execution_count": 12,
   "id": "0b403f78",
   "metadata": {},
   "outputs": [],
   "source": [
    "#horizontal flip\n",
    "flipped = cv2.flip(image, 0)\n",
    "cv2.imshow('Horizontal Flip', flipped)\n",
    "cv2.waitKey()\n",
    "cv2.destroyAllWindows()"
   ]
  },
  {
   "cell_type": "markdown",
   "id": "4aabf222",
   "metadata": {},
   "source": [
    "# Resize"
   ]
  },
  {
   "cell_type": "code",
   "execution_count": 13,
   "id": "e15b2b3a",
   "metadata": {},
   "outputs": [],
   "source": [
    "def resize(img, width = None, height = None, inter = cv2.INTER_AREA):\n",
    "    \n",
    "    dim = None\n",
    "    \n",
    "    (h,w) = image.shape[:2]\n",
    "    \n",
    "    if width is None and height is None:\n",
    "        return img\n",
    "    \n",
    "    #cal new im based on heigth given\n",
    "    elif width is None :\n",
    "        r = height/float(h)\n",
    "        dim = (int(w*r), height)\n",
    "        \n",
    "    #cal new dim based on width given\n",
    "    elif height is None:\n",
    "        r = width/float(w)\n",
    "        dim = (width, int(h*r))\n",
    "        \n",
    "        \n",
    "    res = cv2.resize(img, dim, interpolation= inter)\n",
    "    \n",
    "    return res"
   ]
  },
  {
   "cell_type": "code",
   "execution_count": 14,
   "id": "3df069a4",
   "metadata": {},
   "outputs": [
    {
     "name": "stdout",
     "output_type": "stream",
     "text": [
      "width given : h - 198, w - 300 \n"
     ]
    }
   ],
   "source": [
    "resized = resize(image, width = 300)\n",
    "cv2.imshow(\"width resized\", resized)\n",
    "cv2.waitKey(0)\n",
    "cv2.destroyAllWindows()\n",
    "\n",
    "print(\"width given : h - {}, w - {} \".format(resized.shape[0],resized.shape[1]))"
   ]
  },
  {
   "cell_type": "markdown",
   "id": "2dbfdf5b",
   "metadata": {},
   "source": [
    "# Cropping "
   ]
  },
  {
   "cell_type": "code",
   "execution_count": 15,
   "id": "1cf8892b",
   "metadata": {},
   "outputs": [],
   "source": [
    "(h,w) = image.shape[:2] #we only require height and width not channel thats why 2"
   ]
  },
  {
   "cell_type": "code",
   "execution_count": 16,
   "id": "a288458d",
   "metadata": {},
   "outputs": [],
   "source": [
    "#lets get the ending pixel coordinates(bottom right)\n",
    "end_row, end_col = int(h * .75), int(w * .75)"
   ]
  },
  {
   "cell_type": "code",
   "execution_count": 17,
   "id": "d1f2d59c",
   "metadata": {},
   "outputs": [],
   "source": [
    "start_row, start_col = int(h * .25), int(w * .25)"
   ]
  },
  {
   "cell_type": "code",
   "execution_count": 18,
   "id": "ff828aa4",
   "metadata": {},
   "outputs": [],
   "source": [
    "#simply use indexing to crop out the retangle we desire\n",
    "cropped = image[start_row:end_row , start_col:end_col]\n",
    "cv2.imshow(\"Original image\", image)\n",
    "cv2.waitKey(0)\n",
    "cv2.imshow(\"Cropped image\", cropped)\n",
    "cv2.waitKey(0)\n",
    "cv2.destroyAllWindows()"
   ]
  },
  {
   "cell_type": "code",
   "execution_count": null,
   "id": "5afec369",
   "metadata": {},
   "outputs": [],
   "source": []
  }
 ],
 "metadata": {
  "kernelspec": {
   "display_name": "tf_cpu",
   "language": "python",
   "name": "tf_cpu"
  },
  "language_info": {
   "codemirror_mode": {
    "name": "ipython",
    "version": 3
   },
   "file_extension": ".py",
   "mimetype": "text/x-python",
   "name": "python",
   "nbconvert_exporter": "python",
   "pygments_lexer": "ipython3",
   "version": "3.9.7"
  }
 },
 "nbformat": 4,
 "nbformat_minor": 5
}
