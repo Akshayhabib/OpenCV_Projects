{
 "cells": [
  {
   "cell_type": "code",
   "execution_count": 7,
   "id": "43cd041d",
   "metadata": {},
   "outputs": [],
   "source": [
    "import cv2\n",
    "import numpy as np"
   ]
  },
  {
   "cell_type": "code",
   "execution_count": 8,
   "id": "2ce17498",
   "metadata": {},
   "outputs": [
    {
     "data": {
      "text/plain": [
       "array([[[16, 15, 11],\n",
       "        [23, 22, 18],\n",
       "        [31, 30, 26],\n",
       "        ...,\n",
       "        [ 7,  8,  6],\n",
       "        [ 7,  8,  6],\n",
       "        [ 7,  8,  6]],\n",
       "\n",
       "       [[15, 14, 10],\n",
       "        [22, 21, 17],\n",
       "        [30, 29, 25],\n",
       "        ...,\n",
       "        [ 6,  7,  5],\n",
       "        [ 6,  7,  5],\n",
       "        [ 6,  7,  5]],\n",
       "\n",
       "       [[14, 13,  9],\n",
       "        [21, 20, 16],\n",
       "        [30, 29, 25],\n",
       "        ...,\n",
       "        [ 6,  7,  5],\n",
       "        [ 6,  7,  5],\n",
       "        [ 6,  7,  5]],\n",
       "\n",
       "       ...,\n",
       "\n",
       "       [[ 8,  8,  8],\n",
       "        [ 7,  7,  7],\n",
       "        [ 5,  5,  5],\n",
       "        ...,\n",
       "        [ 0,  0,  0],\n",
       "        [ 0,  0,  0],\n",
       "        [ 0,  0,  0]],\n",
       "\n",
       "       [[ 9,  9,  9],\n",
       "        [ 8,  8,  8],\n",
       "        [ 6,  6,  6],\n",
       "        ...,\n",
       "        [ 0,  0,  0],\n",
       "        [ 0,  0,  0],\n",
       "        [ 0,  0,  0]],\n",
       "\n",
       "       [[10, 10, 10],\n",
       "        [ 9,  9,  9],\n",
       "        [ 7,  7,  7],\n",
       "        ...,\n",
       "        [ 0,  0,  0],\n",
       "        [ 0,  0,  0],\n",
       "        [ 0,  0,  0]]], dtype=uint8)"
      ]
     },
     "execution_count": 8,
     "metadata": {},
     "output_type": "execute_result"
    }
   ],
   "source": [
    "image = cv2.imread(r'C:\\Users\\akshay0909\\open CV\\DAY2\\DATA-20220515T070511Z-001\\DATA\\cat.jpeg')\n",
    "image"
   ]
  },
  {
   "cell_type": "code",
   "execution_count": 9,
   "id": "29eb21ea",
   "metadata": {},
   "outputs": [],
   "source": [
    " #(h,w)=image[:2]"
   ]
  },
  {
   "cell_type": "code",
   "execution_count": 10,
   "id": "33c3efb7",
   "metadata": {},
   "outputs": [],
   "source": [
    "def resize(image,width=None, height=None,inter=cv2.INTER_AREA):\n",
    "    \n",
    "    dim=None\n",
    "    \n",
    "    (h,w)=image[:2]\n",
    "    \n",
    "    if width is None and height is None:\n",
    "        return image\n",
    "    #calcuate new dim based on the width given\n",
    "    \n",
    "    elif width is None:\n",
    "        r=width/float(w)\n",
    "        dim=(height,inter(h*r))\n",
    "        \n",
    "    #calcuate new dim based on the height given\n",
    "    \n",
    "    elif width is None:\n",
    "        r=width/float(h)\n",
    "        dim=(inter(w*r),width)\n",
    "        \n",
    "    res=cv2.resize(image,dim,interpolation=inter)\n",
    "    \n",
    "    return res"
   ]
  },
  {
   "cell_type": "code",
   "execution_count": 11,
   "id": "a5b93dd9",
   "metadata": {},
   "outputs": [],
   "source": [
    "image = cv2.imread(r'C:\\Users\\akshay0909\\open CV\\DAY2\\DATA-20220515T070511Z-001\\DATA\\cat.jpeg')"
   ]
  },
  {
   "cell_type": "code",
   "execution_count": 12,
   "id": "eb20915c",
   "metadata": {},
   "outputs": [
    {
     "ename": "error",
     "evalue": "OpenCV(4.5.5) D:\\a\\opencv-python\\opencv-python\\opencv\\modules\\imgproc\\src\\resize.cpp:4055: error: (-215:Assertion failed) inv_scale_x > 0 in function 'cv::resize'\n",
     "output_type": "error",
     "traceback": [
      "\u001b[1;31m---------------------------------------------------------------------------\u001b[0m",
      "\u001b[1;31merror\u001b[0m                                     Traceback (most recent call last)",
      "Input \u001b[1;32mIn [12]\u001b[0m, in \u001b[0;36m<module>\u001b[1;34m\u001b[0m\n\u001b[1;32m----> 1\u001b[0m resized\u001b[38;5;241m=\u001b[39m\u001b[43mresize\u001b[49m\u001b[43m(\u001b[49m\u001b[43mimage\u001b[49m\u001b[43m,\u001b[49m\u001b[43mwidth\u001b[49m\u001b[38;5;241;43m=\u001b[39;49m\u001b[38;5;241;43m100\u001b[39;49m\u001b[43m)\u001b[49m\n\u001b[0;32m      2\u001b[0m cv2\u001b[38;5;241m.\u001b[39mimshow(\u001b[38;5;124m'\u001b[39m\u001b[38;5;124mwidth resize \u001b[39m\u001b[38;5;124m'\u001b[39m, resized)\n\u001b[0;32m      3\u001b[0m cv2\u001b[38;5;241m.\u001b[39mwaitKey()\n",
      "Input \u001b[1;32mIn [10]\u001b[0m, in \u001b[0;36mresize\u001b[1;34m(image, width, height, inter)\u001b[0m\n\u001b[0;32m     18\u001b[0m     r\u001b[38;5;241m=\u001b[39mwidth\u001b[38;5;241m/\u001b[39m\u001b[38;5;28mfloat\u001b[39m(h)\n\u001b[0;32m     19\u001b[0m     dim\u001b[38;5;241m=\u001b[39m(inter(w\u001b[38;5;241m*\u001b[39mr),width)\n\u001b[1;32m---> 21\u001b[0m res\u001b[38;5;241m=\u001b[39m\u001b[43mcv2\u001b[49m\u001b[38;5;241;43m.\u001b[39;49m\u001b[43mresize\u001b[49m\u001b[43m(\u001b[49m\u001b[43mimage\u001b[49m\u001b[43m,\u001b[49m\u001b[43mdim\u001b[49m\u001b[43m,\u001b[49m\u001b[43minterpolation\u001b[49m\u001b[38;5;241;43m=\u001b[39;49m\u001b[43minter\u001b[49m\u001b[43m)\u001b[49m\n\u001b[0;32m     23\u001b[0m \u001b[38;5;28;01mreturn\u001b[39;00m res\n",
      "\u001b[1;31merror\u001b[0m: OpenCV(4.5.5) D:\\a\\opencv-python\\opencv-python\\opencv\\modules\\imgproc\\src\\resize.cpp:4055: error: (-215:Assertion failed) inv_scale_x > 0 in function 'cv::resize'\n"
     ]
    }
   ],
   "source": [
    "resized=resize(image,width=100)\n",
    "cv2.imshow('width resize ', resized)\n",
    "cv2.waitKey()\n",
    "cv2.destroyAllWindows()"
   ]
  },
  {
   "cell_type": "code",
   "execution_count": null,
   "id": "5e7d34cc",
   "metadata": {},
   "outputs": [],
   "source": []
  },
  {
   "cell_type": "markdown",
   "id": "2b159b70",
   "metadata": {},
   "source": [
    "# cropping"
   ]
  },
  {
   "cell_type": "code",
   "execution_count": 10,
   "id": "76bade71",
   "metadata": {},
   "outputs": [],
   "source": [
    "image = cv2.imread(r'C:\\Users\\akshay0909\\open CV\\DAY2\\DATA-20220515T070511Z-001\\DATA\\cat.jpeg')\n"
   ]
  },
  {
   "cell_type": "code",
   "execution_count": 12,
   "id": "4c5f2e11",
   "metadata": {
    "collapsed": true
   },
   "outputs": [
    {
     "ename": "NameError",
     "evalue": "name 'height' is not defined",
     "output_type": "error",
     "traceback": [
      "\u001b[1;31m---------------------------------------------------------------------------\u001b[0m",
      "\u001b[1;31mNameError\u001b[0m                                 Traceback (most recent call last)",
      "Input \u001b[1;32mIn [12]\u001b[0m, in \u001b[0;36m<module>\u001b[1;34m\u001b[0m\n\u001b[1;32m----> 1\u001b[0m srart_row,start_col\u001b[38;5;241m=\u001b[39m\u001b[38;5;28mint\u001b[39m(\u001b[43mheight\u001b[49m\u001b[38;5;241m*\u001b[39m \u001b[38;5;241m.025\u001b[39m),\u001b[38;5;28mint\u001b[39m(height\u001b[38;5;241m*\u001b[39m \u001b[38;5;241m.025\u001b[39m),\u001b[38;5;28mint\u001b[39m(height\u001b[38;5;241m*\u001b[39m \u001b[38;5;241m.025\u001b[39m)\n",
      "\u001b[1;31mNameError\u001b[0m: name 'height' is not defined"
     ]
    }
   ],
   "source": [
    "#srart_row,start_col=int(height* .025),int(height* .025),int(height* .025)"
   ]
  },
  {
   "cell_type": "code",
   "execution_count": 15,
   "id": "d5a1a3a9",
   "metadata": {},
   "outputs": [],
   "source": [
    "SR=100\n",
    "ER=600\n",
    "SC=100\n",
    "EC=800"
   ]
  },
  {
   "cell_type": "code",
   "execution_count": 16,
   "id": "34a45656",
   "metadata": {},
   "outputs": [],
   "source": [
    "cropped=image[SR:ER,SC:EC]\n",
    "cv2.imshow('OG IMAGE', image)\n",
    "cv2.waitKey()\n",
    "cv2.imshow('cropped',cropped)\n",
    "cv2.waitKey()\n",
    "cv2.destroyAllWindows()"
   ]
  },
  {
   "cell_type": "code",
   "execution_count": null,
   "id": "03c2e01e",
   "metadata": {},
   "outputs": [],
   "source": []
  },
  {
   "cell_type": "code",
   "execution_count": null,
   "id": "818ea342",
   "metadata": {},
   "outputs": [],
   "source": []
  },
  {
   "cell_type": "code",
   "execution_count": null,
   "id": "109835cb",
   "metadata": {},
   "outputs": [],
   "source": []
  },
  {
   "cell_type": "code",
   "execution_count": null,
   "id": "0816959d",
   "metadata": {},
   "outputs": [],
   "source": []
  }
 ],
 "metadata": {
  "kernelspec": {
   "display_name": "tf_cpu",
   "language": "python",
   "name": "tf_cpu"
  },
  "language_info": {
   "codemirror_mode": {
    "name": "ipython",
    "version": 3
   },
   "file_extension": ".py",
   "mimetype": "text/x-python",
   "name": "python",
   "nbconvert_exporter": "python",
   "pygments_lexer": "ipython3",
   "version": "3.9.7"
  }
 },
 "nbformat": 4,
 "nbformat_minor": 5
}
