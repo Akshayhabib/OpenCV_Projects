{
 "cells": [
  {
   "cell_type": "code",
   "execution_count": 1,
   "id": "7195495b",
   "metadata": {},
   "outputs": [],
   "source": [
    "import cv2"
   ]
  },
  {
   "cell_type": "code",
   "execution_count": 2,
   "id": "deb68bcf",
   "metadata": {},
   "outputs": [],
   "source": [
    "cv2.imread?"
   ]
  },
  {
   "cell_type": "code",
   "execution_count": 3,
   "id": "09c2ec8d",
   "metadata": {},
   "outputs": [],
   "source": [
    "image=cv2.imread('data/RDJ.jpg')"
   ]
  },
  {
   "cell_type": "code",
   "execution_count": 4,
   "id": "753293ca",
   "metadata": {},
   "outputs": [
    {
     "data": {
      "text/plain": [
       "array([[[ 69,  80, 108],\n",
       "        [ 68,  79, 107],\n",
       "        [ 70,  81, 109],\n",
       "        ...,\n",
       "        [ 89, 144, 217],\n",
       "        [ 92, 146, 217],\n",
       "        [ 92, 146, 217]],\n",
       "\n",
       "       [[ 69,  80, 108],\n",
       "        [ 71,  82, 110],\n",
       "        [ 74,  85, 113],\n",
       "        ...,\n",
       "        [ 85, 141, 212],\n",
       "        [ 87, 141, 212],\n",
       "        [ 87, 142, 211]],\n",
       "\n",
       "       [[ 72,  82, 112],\n",
       "        [ 73,  83, 113],\n",
       "        [ 73,  84, 114],\n",
       "        ...,\n",
       "        [ 88, 143, 212],\n",
       "        [ 88, 140, 210],\n",
       "        [ 86, 139, 206]],\n",
       "\n",
       "       ...,\n",
       "\n",
       "       [[ 32,  35,  33],\n",
       "        [ 30,  33,  31],\n",
       "        [ 30,  33,  31],\n",
       "        ...,\n",
       "        [ 86, 107, 115],\n",
       "        [107, 126, 139],\n",
       "        [123, 145, 157]],\n",
       "\n",
       "       [[ 40,  43,  41],\n",
       "        [ 34,  37,  35],\n",
       "        [ 32,  35,  33],\n",
       "        ...,\n",
       "        [ 69,  90,  98],\n",
       "        [100, 119, 132],\n",
       "        [119, 141, 153]],\n",
       "\n",
       "       [[ 49,  52,  50],\n",
       "        [ 39,  42,  40],\n",
       "        [ 36,  39,  37],\n",
       "        ...,\n",
       "        [ 50,  71,  79],\n",
       "        [ 94, 113, 126],\n",
       "        [121, 143, 155]]], dtype=uint8)"
      ]
     },
     "execution_count": 4,
     "metadata": {},
     "output_type": "execute_result"
    }
   ],
   "source": [
    "image"
   ]
  },
  {
   "cell_type": "code",
   "execution_count": 5,
   "id": "323e51b3",
   "metadata": {},
   "outputs": [
    {
     "data": {
      "text/plain": [
       "(456, 304, 3)"
      ]
     },
     "execution_count": 5,
     "metadata": {},
     "output_type": "execute_result"
    }
   ],
   "source": [
    "image.shape"
   ]
  },
  {
   "cell_type": "code",
   "execution_count": 6,
   "id": "99fbb493",
   "metadata": {},
   "outputs": [],
   "source": [
    "#load image into cv2\n",
    "#wait for key press\n",
    "#write image into another format\n",
    "\n",
    "cv2.imshow('output',image)\n",
    "cv2.waitKey()\n",
    "cv2.destroyAllWindows()"
   ]
  },
  {
   "cell_type": "code",
   "execution_count": 7,
   "id": "8fb78163",
   "metadata": {},
   "outputs": [],
   "source": [
    "cv2.destroyAllWindows()"
   ]
  },
  {
   "cell_type": "code",
   "execution_count": 8,
   "id": "dc687746",
   "metadata": {},
   "outputs": [],
   "source": [
    "image[50:228,50:152]=(0,0,150)\n",
    "(b,g,r)=image[0,0]\n"
   ]
  },
  {
   "cell_type": "code",
   "execution_count": 9,
   "id": "1ea94f59",
   "metadata": {},
   "outputs": [],
   "source": [
    "cv2.imshow('output',image)\n",
    "cv2.waitKey(0)\n",
    "cv2.destroyAllWindows()"
   ]
  },
  {
   "cell_type": "code",
   "execution_count": null,
   "id": "cc6d71f3",
   "metadata": {},
   "outputs": [],
   "source": []
  },
  {
   "cell_type": "code",
   "execution_count": null,
   "id": "6c96d4cc",
   "metadata": {},
   "outputs": [],
   "source": []
  }
 ],
 "metadata": {
  "kernelspec": {
   "display_name": "tf_cpu",
   "language": "python",
   "name": "tf_cpu"
  },
  "language_info": {
   "codemirror_mode": {
    "name": "ipython",
    "version": 3
   },
   "file_extension": ".py",
   "mimetype": "text/x-python",
   "name": "python",
   "nbconvert_exporter": "python",
   "pygments_lexer": "ipython3",
   "version": "3.9.7"
  }
 },
 "nbformat": 4,
 "nbformat_minor": 5
}
