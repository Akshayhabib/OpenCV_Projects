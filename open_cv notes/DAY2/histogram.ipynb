{
 "cells": [
  {
   "cell_type": "code",
   "execution_count": 26,
   "id": "4e949f4b-cbc1-45c4-8dbd-1d79151f9753",
   "metadata": {},
   "outputs": [],
   "source": [
    "import cv2\n",
    "from matplotlib import pyplot as plt\n",
    "import numpy as np"
   ]
  },
  {
   "cell_type": "code",
   "execution_count": 20,
   "id": "ad96bebf-98b9-4098-81ad-8cf13aee1f56",
   "metadata": {},
   "outputs": [],
   "source": [
    "image=cv2.imread('DATA-20220515T070511Z-001/DATA/obama.jpg')"
   ]
  },
  {
   "cell_type": "code",
   "execution_count": 21,
   "id": "2f0db7cc-aac3-4900-bf09-af8c882a5994",
   "metadata": {},
   "outputs": [
    {
     "data": {
      "text/plain": [
       "array([[[ 29,  33,  91],\n",
       "        [ 24,  28,  86],\n",
       "        [ 20,  24,  82],\n",
       "        ...,\n",
       "        [148, 178, 189],\n",
       "        [153, 183, 194],\n",
       "        [157, 184, 194]],\n",
       "\n",
       "       [[ 29,  33,  91],\n",
       "        [ 24,  28,  86],\n",
       "        [ 21,  25,  83],\n",
       "        ...,\n",
       "        [149, 179, 190],\n",
       "        [154, 184, 195],\n",
       "        [158, 187, 196]],\n",
       "\n",
       "       [[ 29,  33,  91],\n",
       "        [ 24,  28,  86],\n",
       "        [ 21,  25,  83],\n",
       "        ...,\n",
       "        [148, 180, 191],\n",
       "        [154, 186, 197],\n",
       "        [160, 189, 198]],\n",
       "\n",
       "       ...,\n",
       "\n",
       "       [[ 14,  54, 129],\n",
       "        [ 14,  53, 128],\n",
       "        [ 13,  49, 125],\n",
       "        ...,\n",
       "        [103, 124, 155],\n",
       "        [100, 121, 152],\n",
       "        [100, 121, 152]],\n",
       "\n",
       "       [[ 16,  52, 128],\n",
       "        [ 15,  51, 127],\n",
       "        [ 15,  47, 123],\n",
       "        ...,\n",
       "        [109, 134, 166],\n",
       "        [107, 132, 164],\n",
       "        [106, 131, 163]],\n",
       "\n",
       "       [[ 18,  50, 126],\n",
       "        [ 20,  52, 128],\n",
       "        [ 17,  45, 122],\n",
       "        ...,\n",
       "        [113, 139, 169],\n",
       "        [108, 134, 164],\n",
       "        [106, 132, 162]]], dtype=uint8)"
      ]
     },
     "execution_count": 21,
     "metadata": {},
     "output_type": "execute_result"
    }
   ],
   "source": [
    "image"
   ]
  },
  {
   "cell_type": "code",
   "execution_count": 22,
   "id": "c4b89302-99c9-4ebb-bc0f-ab2c42ead7c9",
   "metadata": {},
   "outputs": [
    {
     "data": {
      "text/plain": [
       "(1137, 910, 3)"
      ]
     },
     "execution_count": 22,
     "metadata": {},
     "output_type": "execute_result"
    }
   ],
   "source": [
    "image.shape"
   ]
  },
  {
   "cell_type": "code",
   "execution_count": 23,
   "id": "dfacaf61-4e09-462d-b072-1a24d0d21880",
   "metadata": {},
   "outputs": [],
   "source": [
    "#load image into cv2\n",
    "#wait for key press\n",
    "#write image into another format\n",
    "\n",
    "cv2.imshow('output',image)\n",
    "cv2.waitKey()\n",
    "cv2.destroyAllWindows()"
   ]
  },
  {
   "cell_type": "code",
   "execution_count": 28,
   "id": "6424384d-53fd-44a8-bf0f-a2b81d9e6cd8",
   "metadata": {},
   "outputs": [
    {
     "data": {
      "text/plain": [
       "array([[ 4543.],\n",
       "       [ 1060.],\n",
       "       [ 2289.],\n",
       "       [ 2976.],\n",
       "       [ 3141.],\n",
       "       [ 3483.],\n",
       "       [ 4054.],\n",
       "       [ 4042.],\n",
       "       [ 4052.],\n",
       "       [ 4444.],\n",
       "       [ 4072.],\n",
       "       [ 4237.],\n",
       "       [ 4508.],\n",
       "       [ 4920.],\n",
       "       [ 5066.],\n",
       "       [ 5123.],\n",
       "       [ 5357.],\n",
       "       [ 5649.],\n",
       "       [ 5693.],\n",
       "       [ 5795.],\n",
       "       [ 5900.],\n",
       "       [ 6040.],\n",
       "       [ 6744.],\n",
       "       [ 6988.],\n",
       "       [ 7341.],\n",
       "       [ 7493.],\n",
       "       [ 7592.],\n",
       "       [ 7836.],\n",
       "       [ 8374.],\n",
       "       [ 8632.],\n",
       "       [ 8786.],\n",
       "       [ 9372.],\n",
       "       [ 9540.],\n",
       "       [ 9684.],\n",
       "       [ 9600.],\n",
       "       [ 9813.],\n",
       "       [10333.],\n",
       "       [11022.],\n",
       "       [11799.],\n",
       "       [12560.],\n",
       "       [13135.],\n",
       "       [13956.],\n",
       "       [14165.],\n",
       "       [14932.],\n",
       "       [15597.],\n",
       "       [15974.],\n",
       "       [16553.],\n",
       "       [17189.],\n",
       "       [17641.],\n",
       "       [17888.],\n",
       "       [17609.],\n",
       "       [17683.],\n",
       "       [17540.],\n",
       "       [17497.],\n",
       "       [17171.],\n",
       "       [16171.],\n",
       "       [15438.],\n",
       "       [13915.],\n",
       "       [12399.],\n",
       "       [10962.],\n",
       "       [ 9949.],\n",
       "       [ 9100.],\n",
       "       [ 8262.],\n",
       "       [ 7838.],\n",
       "       [ 7175.],\n",
       "       [ 6754.],\n",
       "       [ 6631.],\n",
       "       [ 6310.],\n",
       "       [ 6126.],\n",
       "       [ 6139.],\n",
       "       [ 5884.],\n",
       "       [ 6064.],\n",
       "       [ 5949.],\n",
       "       [ 5911.],\n",
       "       [ 5840.],\n",
       "       [ 5399.],\n",
       "       [ 5747.],\n",
       "       [ 5352.],\n",
       "       [ 5404.],\n",
       "       [ 5225.],\n",
       "       [ 5489.],\n",
       "       [ 5293.],\n",
       "       [ 5086.],\n",
       "       [ 4921.],\n",
       "       [ 4985.],\n",
       "       [ 4824.],\n",
       "       [ 4768.],\n",
       "       [ 4723.],\n",
       "       [ 4273.],\n",
       "       [ 4060.],\n",
       "       [ 4009.],\n",
       "       [ 3856.],\n",
       "       [ 3595.],\n",
       "       [ 3506.],\n",
       "       [ 3612.],\n",
       "       [ 3268.],\n",
       "       [ 3454.],\n",
       "       [ 3233.],\n",
       "       [ 3056.],\n",
       "       [ 3157.],\n",
       "       [ 3125.],\n",
       "       [ 3135.],\n",
       "       [ 3243.],\n",
       "       [ 2978.],\n",
       "       [ 3064.],\n",
       "       [ 3117.],\n",
       "       [ 3020.],\n",
       "       [ 3010.],\n",
       "       [ 2828.],\n",
       "       [ 2907.],\n",
       "       [ 2766.],\n",
       "       [ 2725.],\n",
       "       [ 2711.],\n",
       "       [ 2765.],\n",
       "       [ 2732.],\n",
       "       [ 2750.],\n",
       "       [ 2717.],\n",
       "       [ 2705.],\n",
       "       [ 2734.],\n",
       "       [ 2868.],\n",
       "       [ 2772.],\n",
       "       [ 2864.],\n",
       "       [ 2811.],\n",
       "       [ 2751.],\n",
       "       [ 2752.],\n",
       "       [ 2862.],\n",
       "       [ 2844.],\n",
       "       [ 2765.],\n",
       "       [ 2958.],\n",
       "       [ 2880.],\n",
       "       [ 2824.],\n",
       "       [ 2947.],\n",
       "       [ 2971.],\n",
       "       [ 2809.],\n",
       "       [ 2799.],\n",
       "       [ 2672.],\n",
       "       [ 2682.],\n",
       "       [ 2436.],\n",
       "       [ 2494.],\n",
       "       [ 2408.],\n",
       "       [ 2192.],\n",
       "       [ 2128.],\n",
       "       [ 2020.],\n",
       "       [ 2017.],\n",
       "       [ 1975.],\n",
       "       [ 1893.],\n",
       "       [ 1800.],\n",
       "       [ 1758.],\n",
       "       [ 1731.],\n",
       "       [ 1717.],\n",
       "       [ 1605.],\n",
       "       [ 1700.],\n",
       "       [ 1617.],\n",
       "       [ 1455.],\n",
       "       [ 1581.],\n",
       "       [ 1505.],\n",
       "       [ 1392.],\n",
       "       [ 1437.],\n",
       "       [ 1382.],\n",
       "       [ 1366.],\n",
       "       [ 1316.],\n",
       "       [ 1342.],\n",
       "       [ 1285.],\n",
       "       [ 1273.],\n",
       "       [ 1226.],\n",
       "       [ 1288.],\n",
       "       [ 1280.],\n",
       "       [ 1176.],\n",
       "       [ 1212.],\n",
       "       [ 1189.],\n",
       "       [ 1088.],\n",
       "       [ 1116.],\n",
       "       [ 1176.],\n",
       "       [ 1076.],\n",
       "       [ 1085.],\n",
       "       [ 1053.],\n",
       "       [ 1019.],\n",
       "       [ 1008.],\n",
       "       [ 1037.],\n",
       "       [ 1048.],\n",
       "       [  936.],\n",
       "       [ 1011.],\n",
       "       [  988.],\n",
       "       [  967.],\n",
       "       [ 1004.],\n",
       "       [  985.],\n",
       "       [  999.],\n",
       "       [  969.],\n",
       "       [ 1068.],\n",
       "       [ 1084.],\n",
       "       [  994.],\n",
       "       [ 1009.],\n",
       "       [ 1057.],\n",
       "       [ 1102.],\n",
       "       [ 1098.],\n",
       "       [ 1118.],\n",
       "       [ 1087.],\n",
       "       [ 1102.],\n",
       "       [ 1159.],\n",
       "       [ 1217.],\n",
       "       [ 1174.],\n",
       "       [ 1442.],\n",
       "       [ 1315.],\n",
       "       [ 1342.],\n",
       "       [ 1366.],\n",
       "       [ 1194.],\n",
       "       [ 1166.],\n",
       "       [ 1149.],\n",
       "       [ 1037.],\n",
       "       [ 1155.],\n",
       "       [  959.],\n",
       "       [  844.],\n",
       "       [  861.],\n",
       "       [  924.],\n",
       "       [  874.],\n",
       "       [  799.],\n",
       "       [  908.],\n",
       "       [  925.],\n",
       "       [  772.],\n",
       "       [  896.],\n",
       "       [  879.],\n",
       "       [  880.],\n",
       "       [  921.],\n",
       "       [  932.],\n",
       "       [  830.],\n",
       "       [  860.],\n",
       "       [  914.],\n",
       "       [  913.],\n",
       "       [ 1009.],\n",
       "       [ 1018.],\n",
       "       [  976.],\n",
       "       [  846.],\n",
       "       [  754.],\n",
       "       [  735.],\n",
       "       [  714.],\n",
       "       [  616.],\n",
       "       [  608.],\n",
       "       [  558.],\n",
       "       [  544.],\n",
       "       [  584.],\n",
       "       [  559.],\n",
       "       [  605.],\n",
       "       [  545.],\n",
       "       [  616.],\n",
       "       [  595.],\n",
       "       [  621.],\n",
       "       [  728.],\n",
       "       [  801.],\n",
       "       [  920.],\n",
       "       [ 1090.],\n",
       "       [ 1173.],\n",
       "       [ 1077.],\n",
       "       [ 1113.],\n",
       "       [ 1443.],\n",
       "       [ 1759.],\n",
       "       [ 4518.]], dtype=float32)"
      ]
     },
     "execution_count": 28,
     "metadata": {},
     "output_type": "execute_result"
    }
   ],
   "source": [
    "hist=cv2.calcHist([image],[0],None,[256],[0,256])\n",
    "hist"
   ]
  },
  {
   "cell_type": "code",
   "execution_count": 30,
   "id": "5ee7fac8-37e6-4ff7-8d6e-ef85560244a9",
   "metadata": {},
   "outputs": [
    {
     "data": {
      "text/plain": [
       "array([ 29,  33,  91, ..., 106, 132, 162], dtype=uint8)"
      ]
     },
     "execution_count": 30,
     "metadata": {},
     "output_type": "execute_result"
    }
   ],
   "source": [
    "image.ravel()"
   ]
  },
  {
   "cell_type": "code",
   "execution_count": 32,
   "id": "79369852-7dd7-41e2-882c-22a8ccbfcf85",
   "metadata": {},
   "outputs": [
    {
     "data": {
      "image/png": "[encoded data removed]",
      "text/plain": [
       "<Figure size 432x288 with 1 Axes>"
      ]
     },
     "metadata": {
      "needs_background": "light"
     },
     "output_type": "display_data"
    }
   ],
   "source": [
    "plt.hist(image.ravel(),256,[0,256])\n",
    "plt.show()"
   ]
  },
  {
   "cell_type": "code",
   "execution_count": 33,
   "id": "9c0224bf-4585-4b22-b9a8-f23a3d359fc2",
   "metadata": {},
   "outputs": [
    {
     "data": {
      "image/png": "[encoded data removed]",
      "text/plain": [
       "<Figure size 432x288 with 1 Axes>"
      ]
     },
     "metadata": {
      "needs_background": "light"
     },
     "output_type": "display_data"
    }
   ],
   "source": [
    "#viewing separate colosr channel\n",
    "\n",
    "color=('b','g','r')\n",
    "\n",
    "#\n",
    "for i, col in  enumerate(color):\n",
    "    hist2=cv2.calcHist([image],[i],None,[256],[0,256])\n",
    "    plt.plot(hist2,color=col)\n",
    "    plt.xlim([0,256])\n",
    "    \n",
    "plt.show()    "
   ]
  },
  {
   "cell_type": "code",
   "execution_count": 37,
   "id": "5b9f77f5-f33f-45b4-95c4-0758b386f1e7",
   "metadata": {},
   "outputs": [],
   "source": [
    "#cv2.calcHist?"
   ]
  },
  {
   "cell_type": "code",
   "execution_count": 2,
   "id": "e3b925d4-83b7-4076-bb61-c294450cdaab",
   "metadata": {},
   "outputs": [
    {
     "data": {
      "text/plain": [
       "576"
      ]
     },
     "execution_count": 2,
     "metadata": {},
     "output_type": "execute_result"
    }
   ],
   "source": [
    "8*72"
   ]
  },
  {
   "cell_type": "code",
   "execution_count": 3,
   "id": "b4a4d9de",
   "metadata": {},
   "outputs": [
    {
     "data": {
      "text/plain": [
       "17280"
      ]
     },
     "execution_count": 3,
     "metadata": {},
     "output_type": "execute_result"
    }
   ],
   "source": [
    "576*30"
   ]
  },
  {
   "cell_type": "code",
   "execution_count": null,
   "id": "6d64b1fd",
   "metadata": {},
   "outputs": [],
   "source": []
  }
 ],
 "metadata": {
  "kernelspec": {
   "display_name": "tf_cpu",
   "language": "python",
   "name": "tf_cpu"
  },
  "language_info": {
   "codemirror_mode": {
    "name": "ipython",
    "version": 3
   },
   "file_extension": ".py",
   "mimetype": "text/x-python",
   "name": "python",
   "nbconvert_exporter": "python",
   "pygments_lexer": "ipython3",
   "version": "3.9.7"
  }
 },
 "nbformat": 4,
 "nbformat_minor": 5
}
